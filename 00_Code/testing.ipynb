{
 "cells": [
  {
   "cell_type": "code",
   "execution_count": 1,
   "id": "9f7f309b",
   "metadata": {},
   "outputs": [],
   "source": [
    "# gender_dict=dict(zip(gender_df['Project Number'], gender_df['Marker Text']))\n",
    "# print(gender_dict)"
   ]
  },
  {
   "cell_type": "code",
   "execution_count": null,
   "id": "a5481c45",
   "metadata": {},
   "outputs": [],
   "source": []
  },
  {
   "cell_type": "code",
   "execution_count": 2,
   "id": "322efa71",
   "metadata": {},
   "outputs": [],
   "source": [
    "import pandas as pd"
   ]
  },
  {
   "cell_type": "code",
   "execution_count": 3,
   "id": "79ec4200",
   "metadata": {},
   "outputs": [],
   "source": [
    "g1=pd.read_excel(\"../01_Input/06_Gender/GM SS4 SS5 14Jan2024.xlsx\")\n",
    "g2=pd.read_excel(\"../01_Input/06_Gender/UNDP Gender Marker.xlsx\")\n",
    "g3=pd.read_excel(\"../01_Input/06_Gender/gender markers - transparency.xlsx\")\n"
   ]
  },
  {
   "cell_type": "code",
   "execution_count": 4,
   "id": "8463c705",
   "metadata": {},
   "outputs": [],
   "source": [
    "projectDf=pd.read_csv(\"../02_Output/01_Projects/projectDfFull.csv\")\n",
    "#projectDf=projectDf[projectDf[\"VF or Non-VF\"]==\"Non-VF\"]\n",
    "projects=list(projectDf[\"Project ID\"])\n"
   ]
  },
  {
   "cell_type": "code",
   "execution_count": 5,
   "id": "054632df",
   "metadata": {},
   "outputs": [],
   "source": [
    "g1Projects=list(g1[\"Project Number\"])\n",
    "g2Projects=list(g2[\"Project Number\"])\n",
    "g3Projects=list(g3[\"PROJECT NUMBER\"])\n"
   ]
  },
  {
   "cell_type": "code",
   "execution_count": null,
   "id": "7e40aca6",
   "metadata": {},
   "outputs": [],
   "source": []
  },
  {
   "cell_type": "code",
   "execution_count": 6,
   "id": "62123af5",
   "metadata": {},
   "outputs": [],
   "source": [
    "def convert_strings_to_ints(str_list):\n",
    "    # Attempt to convert each string to an integer, if possible\n",
    "    converted_list = []\n",
    "    for item in str_list:\n",
    "        try:\n",
    "            # Attempt conversion\n",
    "            converted_list.append(int(float(item)))\n",
    "        except ValueError:\n",
    "            # Keep the original string if conversion is not possible\n",
    "            converted_list.append(item)\n",
    "    return converted_list\n",
    "\n",
    "projectList=convert_strings_to_ints(projects)"
   ]
  },
  {
   "cell_type": "code",
   "execution_count": null,
   "id": "fbad1250",
   "metadata": {},
   "outputs": [],
   "source": []
  },
  {
   "cell_type": "code",
   "execution_count": null,
   "id": "dfa9b255",
   "metadata": {},
   "outputs": [],
   "source": []
  },
  {
   "cell_type": "code",
   "execution_count": 7,
   "id": "b87f8787",
   "metadata": {},
   "outputs": [],
   "source": [
    "def intersection_length(list1, list2):\n",
    "    # Convert lists to sets\n",
    "    set1 = set(list1) #[f\"{float(i):.1f}\" for i in list1]\n",
    "    set2 = set(list2)\n",
    "    \n",
    "    # Find the intersection\n",
    "    intersection = set1.intersection(set2)\n",
    "    \n",
    "    # Return the length of the intersection\n",
    "    return intersection\n"
   ]
  },
  {
   "cell_type": "code",
   "execution_count": 8,
   "id": "edf35e34",
   "metadata": {},
   "outputs": [
    {
     "data": {
      "text/plain": [
       "34"
      ]
     },
     "execution_count": 8,
     "metadata": {},
     "output_type": "execute_result"
    }
   ],
   "source": [
    "len(intersection_length(g1Projects,projectList))"
   ]
  },
  {
   "cell_type": "code",
   "execution_count": 9,
   "id": "bcde3bff",
   "metadata": {},
   "outputs": [
    {
     "data": {
      "text/plain": [
       "98"
      ]
     },
     "execution_count": 9,
     "metadata": {},
     "output_type": "execute_result"
    }
   ],
   "source": [
    "len(intersection_length(g2Projects,projectList))"
   ]
  },
  {
   "cell_type": "code",
   "execution_count": 10,
   "id": "9d98b643",
   "metadata": {},
   "outputs": [],
   "source": [
    "inter=intersection_length(g3Projects,projectList)"
   ]
  },
  {
   "cell_type": "code",
   "execution_count": null,
   "id": "0e8ccd90",
   "metadata": {},
   "outputs": [],
   "source": []
  },
  {
   "cell_type": "code",
   "execution_count": 14,
   "id": "c87b7e06",
   "metadata": {},
   "outputs": [
    {
     "name": "stdout",
     "output_type": "stream",
     "text": [
      "[117913, 134793, 133871, 6613, 'missing-ZMB-1', 'missing-ZMB-2', 6512, 5728, 5256, 'missing-ZAF-1', 'missing-ZAF-2', 5669, 6037, 120029, 6468, 143571, 6403, 6163, 145179, 'missing-DZA-1', 106770, 135714, 137393, 137462, 'missing-countryCode-1', 63735, 6469, 5484, 5740, 142807, 6479, '5492 / 00101330', 4685, 5543, 114336, 10414, 122410, 112081, 143659, 5574, 5299, 5831, '6161, 106273', 79213, 100396, 'UNDP-MDG-00132364', 'UNDP-MDG-00129975\\nUNDP-MDG-00129976', 'UNDP-MDG-00123355', 'missing-VEN-1', 'missing-LSO-1', 'missing-ZWE-1', 6411, 5284, 6542, 139866, 111467, 90074, 119366, 134410, 142290, 145829, 100344, 144399, 5680, 142609, '00080877, 00097821, 00080982, 00109097', 104022, '00104634, 00104636', 99918, 4114, 142763, 6702, 4690, 107166, 135006, 92045, 119001, 6618, 6431, 5395, 144123, 94293, 48025, 105415, 131266, 132013, 132014, 141105, 5882, 5646, 5188, 6510, 141579, 5462, 6657, 4602, 'missing-STP-1', 1061012, 76640, 129029, 6692, 5452, 6089, 6451, 114367, 125243, 133485, 5673, 5323, 5285, 115827, 5926, 5613, 6188, 6159, 5997, 6417, 5392, 128213, 6432, 'missing-SWZ-1', 'missing-SWZ-2', 5702, 'missing-RWA-1', 126434, 142434, 6333, 5721, 4673, 6486, 5681, 5509, 144953, 144270, 110061, 5143, 46258, 118602, 133238, 140158, 5749, 'CMR/SGP/OP7/Y1/CORE/CC/2022/04 ', 130710, 6619, 135028, 144124, '6659, 143728', 6321, 5674, 106169, 102733, 98897, 110578, 118945, 5653, 4899, 118495, 85124, 6658, 5115, 4979, '4979-2', 'missing-KEN-1', 'missing-KEN-2', 129587, 6270, 126532, 145070, 94384, 141196, 6388, 6285, 132059, 147445, 138844, 143651, 88841, '00131399 (UNDP CO TRAC)', 104020, 128342, 120474, 122659, 6487, 85156, 116195, 5304, 5194, 85377, 6328, 116294, 124853, 'CIV10- CIV10-00131158', 5989, 5331, 6384, 5476, 'CKT-NGA10-2022-030', 'UNDP-NGA10-2022-015 ', 'NGA10-0000026575', 'UNDP-NGA10-2022-016', 'NGA10-0000026576', 'CKT-NGA10-2021-63', 'CKT-NGA10-2021-64', 10046575, 'CKT-NGA10-2021-62', 'UNDP-NGA10-2022-087', 'NGA10-0000026603', 145011, 141162, 6327, 6202, 9691, '5957/ 117647', 'TRI/SGP/OP7/YI/CORE/CC/22/09', 116395, 93848, '00110796(AC Unit) & 00117012 (PMU)', 134586, 93849, 104187, 111777, 'missing-MMR-1', 112026, 100551, 129530, 96640, 6686, 136365, 130007, 112788, 5703, 5490, 4670, 125105, 4283, 5885, 136664, 6249, 4998, 132688]\n"
     ]
    }
   ],
   "source": [
    "print([item for item in projectList if item not in inter])"
   ]
  },
  {
   "cell_type": "code",
   "execution_count": null,
   "id": "8aa62bbb",
   "metadata": {},
   "outputs": [],
   "source": []
  }
 ],
 "metadata": {
  "kernelspec": {
   "display_name": "Python 3 (ipykernel)",
   "language": "python",
   "name": "python3"
  },
  "language_info": {
   "codemirror_mode": {
    "name": "ipython",
    "version": 3
   },
   "file_extension": ".py",
   "mimetype": "text/x-python",
   "name": "python",
   "nbconvert_exporter": "python",
   "pygments_lexer": "ipython3",
   "version": "3.10.6"
  }
 },
 "nbformat": 4,
 "nbformat_minor": 5
}
